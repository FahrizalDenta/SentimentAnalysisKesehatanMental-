{
  "nbformat": 4,
  "nbformat_minor": 0,
  "metadata": {
    "colab": {
      "provenance": [],
      "gpuType": "T4"
    },
    "kernelspec": {
      "name": "python3",
      "display_name": "Python 3"
    },
    "language_info": {
      "name": "python"
    },
    "accelerator": "GPU"
  },
  "cells": [
    {
      "cell_type": "markdown",
      "source": [
        "## Langkah 1 : Persiapan Lingkungan Google Colab"
      ],
      "metadata": {
        "id": "oayUOVy4WoR0"
      }
    },
    {
      "cell_type": "code",
      "source": [
        "# Instal library yang dibutuhkan\n",
        "# langchain_community: Untuk integrasi yang mudah dengan berbagai LLM, termasuk Replicate. [cite: 21]\n",
        "# replicate: Library Python untuk berinteraksi dengan API Replicate. [cite: 21]\n",
        "# scikit-learn: Untuk metrik evaluasi model (classification_report, confusion_matrix).\n",
        "# pandas, matplotlib, seaborn: Untuk manipulasi data, EDA, dan visualisasi.\n",
        "# google.colab: Untuk mengakses secrets di Google Colab.\n",
        "!pip install langchain_community replicate scikit-learn pandas matplotlib seaborn -q\n",
        "!pip install accelerate -U -q # Untuk efisiensi GPU, meskipun tidak langsung di model lokal"
      ],
      "metadata": {
        "id": "pMMi5yW6WhkM",
        "colab": {
          "base_uri": "https://localhost:8080/"
        },
        "outputId": "3053df34-beb8-473c-9497-bf04bf0add9b"
      },
      "execution_count": 1,
      "outputs": [
        {
          "output_type": "stream",
          "name": "stdout",
          "text": [
            "\u001b[?25l   \u001b[90m━━━━━━━━━━━━━━━━━━━━━━━━━━━━━━━━━━━━━━━━\u001b[0m \u001b[32m0.0/2.5 MB\u001b[0m \u001b[31m?\u001b[0m eta \u001b[36m-:--:--\u001b[0m\r\u001b[2K   \u001b[91m━━━━━━━━━━━━━━━━━━━━━━━━━━━━━\u001b[0m\u001b[91m╸\u001b[0m\u001b[90m━━━━━━━━━━\u001b[0m \u001b[32m1.9/2.5 MB\u001b[0m \u001b[31m56.7 MB/s\u001b[0m eta \u001b[36m0:00:01\u001b[0m\r\u001b[2K   \u001b[90m━━━━━━━━━━━━━━━━━━━━━━━━━━━━━━━━━━━━━━━━\u001b[0m \u001b[32m2.5/2.5 MB\u001b[0m \u001b[31m46.1 MB/s\u001b[0m eta \u001b[36m0:00:00\u001b[0m\n",
            "\u001b[?25h\u001b[?25l   \u001b[90m━━━━━━━━━━━━━━━━━━━━━━━━━━━━━━━━━━━━━━━━\u001b[0m \u001b[32m0.0/48.6 kB\u001b[0m \u001b[31m?\u001b[0m eta \u001b[36m-:--:--\u001b[0m\r\u001b[2K   \u001b[90m━━━━━━━━━━━━━━━━━━━━━━━━━━━━━━━━━━━━━━━━\u001b[0m \u001b[32m48.6/48.6 kB\u001b[0m \u001b[31m3.9 MB/s\u001b[0m eta \u001b[36m0:00:00\u001b[0m\n",
            "\u001b[2K   \u001b[90m━━━━━━━━━━━━━━━━━━━━━━━━━━━━━━━━━━━━━━━━\u001b[0m \u001b[32m45.2/45.2 kB\u001b[0m \u001b[31m3.9 MB/s\u001b[0m eta \u001b[36m0:00:00\u001b[0m\n",
            "\u001b[2K   \u001b[90m━━━━━━━━━━━━━━━━━━━━━━━━━━━━━━━━━━━━━━━━\u001b[0m \u001b[32m50.9/50.9 kB\u001b[0m \u001b[31m4.4 MB/s\u001b[0m eta \u001b[36m0:00:00\u001b[0m\n",
            "\u001b[2K   \u001b[90m━━━━━━━━━━━━━━━━━━━━━━━━━━━━━━━━━━━━━━━━\u001b[0m \u001b[32m363.4/363.4 MB\u001b[0m \u001b[31m3.8 MB/s\u001b[0m eta \u001b[36m0:00:00\u001b[0m\n",
            "\u001b[2K   \u001b[90m━━━━━━━━━━━━━━━━━━━━━━━━━━━━━━━━━━━━━━━━\u001b[0m \u001b[32m13.8/13.8 MB\u001b[0m \u001b[31m64.7 MB/s\u001b[0m eta \u001b[36m0:00:00\u001b[0m\n",
            "\u001b[2K   \u001b[90m━━━━━━━━━━━━━━━━━━━━━━━━━━━━━━━━━━━━━━━━\u001b[0m \u001b[32m24.6/24.6 MB\u001b[0m \u001b[31m36.1 MB/s\u001b[0m eta \u001b[36m0:00:00\u001b[0m\n",
            "\u001b[2K   \u001b[90m━━━━━━━━━━━━━━━━━━━━━━━━━━━━━━━━━━━━━━━━\u001b[0m \u001b[32m883.7/883.7 kB\u001b[0m \u001b[31m47.7 MB/s\u001b[0m eta \u001b[36m0:00:00\u001b[0m\n",
            "\u001b[2K   \u001b[90m━━━━━━━━━━━━━━━━━━━━━━━━━━━━━━━━━━━━━━━━\u001b[0m \u001b[32m664.8/664.8 MB\u001b[0m \u001b[31m3.4 MB/s\u001b[0m eta \u001b[36m0:00:00\u001b[0m\n",
            "\u001b[2K   \u001b[90m━━━━━━━━━━━━━━━━━━━━━━━━━━━━━━━━━━━━━━━━\u001b[0m \u001b[32m211.5/211.5 MB\u001b[0m \u001b[31m5.9 MB/s\u001b[0m eta \u001b[36m0:00:00\u001b[0m\n",
            "\u001b[2K   \u001b[90m━━━━━━━━━━━━━━━━━━━━━━━━━━━━━━━━━━━━━━━━\u001b[0m \u001b[32m56.3/56.3 MB\u001b[0m \u001b[31m12.8 MB/s\u001b[0m eta \u001b[36m0:00:00\u001b[0m\n",
            "\u001b[2K   \u001b[90m━━━━━━━━━━━━━━━━━━━━━━━━━━━━━━━━━━━━━━━━\u001b[0m \u001b[32m127.9/127.9 MB\u001b[0m \u001b[31m7.5 MB/s\u001b[0m eta \u001b[36m0:00:00\u001b[0m\n",
            "\u001b[2K   \u001b[90m━━━━━━━━━━━━━━━━━━━━━━━━━━━━━━━━━━━━━━━━\u001b[0m \u001b[32m207.5/207.5 MB\u001b[0m \u001b[31m5.5 MB/s\u001b[0m eta \u001b[36m0:00:00\u001b[0m\n",
            "\u001b[2K   \u001b[90m━━━━━━━━━━━━━━━━━━━━━━━━━━━━━━━━━━━━━━━━\u001b[0m \u001b[32m21.1/21.1 MB\u001b[0m \u001b[31m98.2 MB/s\u001b[0m eta \u001b[36m0:00:00\u001b[0m\n",
            "\u001b[?25h"
          ]
        }
      ]
    },
    {
      "cell_type": "code",
      "source": [
        "# Verifikasi Instalasi dan Ketersediaan GPU\n",
        "import torch\n",
        "import pandas as pd\n",
        "import matplotlib.pyplot as plt\n",
        "import seaborn as sns\n",
        "import os\n",
        "from google.colab import userdata\n",
        "from langchain_community.llms import Replicate\n",
        "import time\n",
        "from sklearn.model_selection import train_test_split\n",
        "from sklearn.metrics import classification_report, confusion_matrix\n",
        "\n",
        "print(f\"Versi PyTorch: {torch.__version__}\")\n",
        "print(f\"CUDA (GPU) tersedia: {torch.cuda.is_available()}\")\n",
        "if torch.cuda.is_available():\n",
        "    print(f\"Nama perangkat GPU: {torch.cuda.get_device_name(0)}\")\n",
        "else:\n",
        "    print(\"GPU tidak tersedia. Pastikan Anda sudah mengaktifkan runtime GPU.\")\n",
        "\n",
        "print(\"Lingkungan Colab siap!\")"
      ],
      "metadata": {
        "colab": {
          "base_uri": "https://localhost:8080/"
        },
        "id": "-t5Of3ocZBzH",
        "outputId": "51af5cc1-d897-4412-ee10-6046a7844366"
      },
      "execution_count": 2,
      "outputs": [
        {
          "output_type": "stream",
          "name": "stdout",
          "text": [
            "Versi PyTorch: 2.6.0+cu124\n",
            "CUDA (GPU) tersedia: True\n",
            "Nama perangkat GPU: Tesla T4\n",
            "Lingkungan Colab siap!\n"
          ]
        }
      ]
    },
    {
      "cell_type": "markdown",
      "source": [
        "## Langakah 2 : Memuat Dataset dan Eksplorasi Data Awal (EDA)"
      ],
      "metadata": {
        "id": "aUKws-Lk_fwJ"
      }
    },
    {
      "cell_type": "code",
      "source": [
        "# Memuat dataset sesuai path\n",
        "df = pd.read_csv('/content/Sentiment Analysis for Mental Health.csv')"
      ],
      "metadata": {
        "id": "v1TZDlyQ47VA"
      },
      "execution_count": 3,
      "outputs": []
    },
    {
      "cell_type": "code",
      "source": [
        "# Melihat 5 baris dataset paling atas\n",
        "df.head()"
      ],
      "metadata": {
        "colab": {
          "base_uri": "https://localhost:8080/",
          "height": 206
        },
        "id": "KLVnxsae5uT0",
        "outputId": "77fcd750-ddc8-4b6d-b431-ac581aba0856"
      },
      "execution_count": 4,
      "outputs": [
        {
          "output_type": "execute_result",
          "data": {
            "text/plain": [
              "   Unnamed: 0                                          statement   status\n",
              "0           0                                         oh my gosh  Anxiety\n",
              "1           1  trouble sleeping, confused mind, restless hear...  Anxiety\n",
              "2           2  All wrong, back off dear, forward doubt. Stay ...  Anxiety\n",
              "3           3  I've shifted my focus to something else but I'...  Anxiety\n",
              "4           4  I'm restless and restless, it's been a month n...  Anxiety"
            ],
            "text/html": [
              "\n",
              "  <div id=\"df-2af3979d-a511-4c52-8e80-fbfdd539903f\" class=\"colab-df-container\">\n",
              "    <div>\n",
              "<style scoped>\n",
              "    .dataframe tbody tr th:only-of-type {\n",
              "        vertical-align: middle;\n",
              "    }\n",
              "\n",
              "    .dataframe tbody tr th {\n",
              "        vertical-align: top;\n",
              "    }\n",
              "\n",
              "    .dataframe thead th {\n",
              "        text-align: right;\n",
              "    }\n",
              "</style>\n",
              "<table border=\"1\" class=\"dataframe\">\n",
              "  <thead>\n",
              "    <tr style=\"text-align: right;\">\n",
              "      <th></th>\n",
              "      <th>Unnamed: 0</th>\n",
              "      <th>statement</th>\n",
              "      <th>status</th>\n",
              "    </tr>\n",
              "  </thead>\n",
              "  <tbody>\n",
              "    <tr>\n",
              "      <th>0</th>\n",
              "      <td>0</td>\n",
              "      <td>oh my gosh</td>\n",
              "      <td>Anxiety</td>\n",
              "    </tr>\n",
              "    <tr>\n",
              "      <th>1</th>\n",
              "      <td>1</td>\n",
              "      <td>trouble sleeping, confused mind, restless hear...</td>\n",
              "      <td>Anxiety</td>\n",
              "    </tr>\n",
              "    <tr>\n",
              "      <th>2</th>\n",
              "      <td>2</td>\n",
              "      <td>All wrong, back off dear, forward doubt. Stay ...</td>\n",
              "      <td>Anxiety</td>\n",
              "    </tr>\n",
              "    <tr>\n",
              "      <th>3</th>\n",
              "      <td>3</td>\n",
              "      <td>I've shifted my focus to something else but I'...</td>\n",
              "      <td>Anxiety</td>\n",
              "    </tr>\n",
              "    <tr>\n",
              "      <th>4</th>\n",
              "      <td>4</td>\n",
              "      <td>I'm restless and restless, it's been a month n...</td>\n",
              "      <td>Anxiety</td>\n",
              "    </tr>\n",
              "  </tbody>\n",
              "</table>\n",
              "</div>\n",
              "    <div class=\"colab-df-buttons\">\n",
              "\n",
              "  <div class=\"colab-df-container\">\n",
              "    <button class=\"colab-df-convert\" onclick=\"convertToInteractive('df-2af3979d-a511-4c52-8e80-fbfdd539903f')\"\n",
              "            title=\"Convert this dataframe to an interactive table.\"\n",
              "            style=\"display:none;\">\n",
              "\n",
              "  <svg xmlns=\"http://www.w3.org/2000/svg\" height=\"24px\" viewBox=\"0 -960 960 960\">\n",
              "    <path d=\"M120-120v-720h720v720H120Zm60-500h600v-160H180v160Zm220 220h160v-160H400v160Zm0 220h160v-160H400v160ZM180-400h160v-160H180v160Zm440 0h160v-160H620v160ZM180-180h160v-160H180v160Zm440 0h160v-160H620v160Z\"/>\n",
              "  </svg>\n",
              "    </button>\n",
              "\n",
              "  <style>\n",
              "    .colab-df-container {\n",
              "      display:flex;\n",
              "      gap: 12px;\n",
              "    }\n",
              "\n",
              "    .colab-df-convert {\n",
              "      background-color: #E8F0FE;\n",
              "      border: none;\n",
              "      border-radius: 50%;\n",
              "      cursor: pointer;\n",
              "      display: none;\n",
              "      fill: #1967D2;\n",
              "      height: 32px;\n",
              "      padding: 0 0 0 0;\n",
              "      width: 32px;\n",
              "    }\n",
              "\n",
              "    .colab-df-convert:hover {\n",
              "      background-color: #E2EBFA;\n",
              "      box-shadow: 0px 1px 2px rgba(60, 64, 67, 0.3), 0px 1px 3px 1px rgba(60, 64, 67, 0.15);\n",
              "      fill: #174EA6;\n",
              "    }\n",
              "\n",
              "    .colab-df-buttons div {\n",
              "      margin-bottom: 4px;\n",
              "    }\n",
              "\n",
              "    [theme=dark] .colab-df-convert {\n",
              "      background-color: #3B4455;\n",
              "      fill: #D2E3FC;\n",
              "    }\n",
              "\n",
              "    [theme=dark] .colab-df-convert:hover {\n",
              "      background-color: #434B5C;\n",
              "      box-shadow: 0px 1px 3px 1px rgba(0, 0, 0, 0.15);\n",
              "      filter: drop-shadow(0px 1px 2px rgba(0, 0, 0, 0.3));\n",
              "      fill: #FFFFFF;\n",
              "    }\n",
              "  </style>\n",
              "\n",
              "    <script>\n",
              "      const buttonEl =\n",
              "        document.querySelector('#df-2af3979d-a511-4c52-8e80-fbfdd539903f button.colab-df-convert');\n",
              "      buttonEl.style.display =\n",
              "        google.colab.kernel.accessAllowed ? 'block' : 'none';\n",
              "\n",
              "      async function convertToInteractive(key) {\n",
              "        const element = document.querySelector('#df-2af3979d-a511-4c52-8e80-fbfdd539903f');\n",
              "        const dataTable =\n",
              "          await google.colab.kernel.invokeFunction('convertToInteractive',\n",
              "                                                    [key], {});\n",
              "        if (!dataTable) return;\n",
              "\n",
              "        const docLinkHtml = 'Like what you see? Visit the ' +\n",
              "          '<a target=\"_blank\" href=https://colab.research.google.com/notebooks/data_table.ipynb>data table notebook</a>'\n",
              "          + ' to learn more about interactive tables.';\n",
              "        element.innerHTML = '';\n",
              "        dataTable['output_type'] = 'display_data';\n",
              "        await google.colab.output.renderOutput(dataTable, element);\n",
              "        const docLink = document.createElement('div');\n",
              "        docLink.innerHTML = docLinkHtml;\n",
              "        element.appendChild(docLink);\n",
              "      }\n",
              "    </script>\n",
              "  </div>\n",
              "\n",
              "\n",
              "    <div id=\"df-f2f6e3c5-b7cf-4b63-879c-43031a4b8f5f\">\n",
              "      <button class=\"colab-df-quickchart\" onclick=\"quickchart('df-f2f6e3c5-b7cf-4b63-879c-43031a4b8f5f')\"\n",
              "                title=\"Suggest charts\"\n",
              "                style=\"display:none;\">\n",
              "\n",
              "<svg xmlns=\"http://www.w3.org/2000/svg\" height=\"24px\"viewBox=\"0 0 24 24\"\n",
              "     width=\"24px\">\n",
              "    <g>\n",
              "        <path d=\"M19 3H5c-1.1 0-2 .9-2 2v14c0 1.1.9 2 2 2h14c1.1 0 2-.9 2-2V5c0-1.1-.9-2-2-2zM9 17H7v-7h2v7zm4 0h-2V7h2v10zm4 0h-2v-4h2v4z\"/>\n",
              "    </g>\n",
              "</svg>\n",
              "      </button>\n",
              "\n",
              "<style>\n",
              "  .colab-df-quickchart {\n",
              "      --bg-color: #E8F0FE;\n",
              "      --fill-color: #1967D2;\n",
              "      --hover-bg-color: #E2EBFA;\n",
              "      --hover-fill-color: #174EA6;\n",
              "      --disabled-fill-color: #AAA;\n",
              "      --disabled-bg-color: #DDD;\n",
              "  }\n",
              "\n",
              "  [theme=dark] .colab-df-quickchart {\n",
              "      --bg-color: #3B4455;\n",
              "      --fill-color: #D2E3FC;\n",
              "      --hover-bg-color: #434B5C;\n",
              "      --hover-fill-color: #FFFFFF;\n",
              "      --disabled-bg-color: #3B4455;\n",
              "      --disabled-fill-color: #666;\n",
              "  }\n",
              "\n",
              "  .colab-df-quickchart {\n",
              "    background-color: var(--bg-color);\n",
              "    border: none;\n",
              "    border-radius: 50%;\n",
              "    cursor: pointer;\n",
              "    display: none;\n",
              "    fill: var(--fill-color);\n",
              "    height: 32px;\n",
              "    padding: 0;\n",
              "    width: 32px;\n",
              "  }\n",
              "\n",
              "  .colab-df-quickchart:hover {\n",
              "    background-color: var(--hover-bg-color);\n",
              "    box-shadow: 0 1px 2px rgba(60, 64, 67, 0.3), 0 1px 3px 1px rgba(60, 64, 67, 0.15);\n",
              "    fill: var(--button-hover-fill-color);\n",
              "  }\n",
              "\n",
              "  .colab-df-quickchart-complete:disabled,\n",
              "  .colab-df-quickchart-complete:disabled:hover {\n",
              "    background-color: var(--disabled-bg-color);\n",
              "    fill: var(--disabled-fill-color);\n",
              "    box-shadow: none;\n",
              "  }\n",
              "\n",
              "  .colab-df-spinner {\n",
              "    border: 2px solid var(--fill-color);\n",
              "    border-color: transparent;\n",
              "    border-bottom-color: var(--fill-color);\n",
              "    animation:\n",
              "      spin 1s steps(1) infinite;\n",
              "  }\n",
              "\n",
              "  @keyframes spin {\n",
              "    0% {\n",
              "      border-color: transparent;\n",
              "      border-bottom-color: var(--fill-color);\n",
              "      border-left-color: var(--fill-color);\n",
              "    }\n",
              "    20% {\n",
              "      border-color: transparent;\n",
              "      border-left-color: var(--fill-color);\n",
              "      border-top-color: var(--fill-color);\n",
              "    }\n",
              "    30% {\n",
              "      border-color: transparent;\n",
              "      border-left-color: var(--fill-color);\n",
              "      border-top-color: var(--fill-color);\n",
              "      border-right-color: var(--fill-color);\n",
              "    }\n",
              "    40% {\n",
              "      border-color: transparent;\n",
              "      border-right-color: var(--fill-color);\n",
              "      border-top-color: var(--fill-color);\n",
              "    }\n",
              "    60% {\n",
              "      border-color: transparent;\n",
              "      border-right-color: var(--fill-color);\n",
              "    }\n",
              "    80% {\n",
              "      border-color: transparent;\n",
              "      border-right-color: var(--fill-color);\n",
              "      border-bottom-color: var(--fill-color);\n",
              "    }\n",
              "    90% {\n",
              "      border-color: transparent;\n",
              "      border-bottom-color: var(--fill-color);\n",
              "    }\n",
              "  }\n",
              "</style>\n",
              "\n",
              "      <script>\n",
              "        async function quickchart(key) {\n",
              "          const quickchartButtonEl =\n",
              "            document.querySelector('#' + key + ' button');\n",
              "          quickchartButtonEl.disabled = true;  // To prevent multiple clicks.\n",
              "          quickchartButtonEl.classList.add('colab-df-spinner');\n",
              "          try {\n",
              "            const charts = await google.colab.kernel.invokeFunction(\n",
              "                'suggestCharts', [key], {});\n",
              "          } catch (error) {\n",
              "            console.error('Error during call to suggestCharts:', error);\n",
              "          }\n",
              "          quickchartButtonEl.classList.remove('colab-df-spinner');\n",
              "          quickchartButtonEl.classList.add('colab-df-quickchart-complete');\n",
              "        }\n",
              "        (() => {\n",
              "          let quickchartButtonEl =\n",
              "            document.querySelector('#df-f2f6e3c5-b7cf-4b63-879c-43031a4b8f5f button');\n",
              "          quickchartButtonEl.style.display =\n",
              "            google.colab.kernel.accessAllowed ? 'block' : 'none';\n",
              "        })();\n",
              "      </script>\n",
              "    </div>\n",
              "\n",
              "    </div>\n",
              "  </div>\n"
            ],
            "application/vnd.google.colaboratory.intrinsic+json": {
              "type": "dataframe",
              "variable_name": "df",
              "summary": "{\n  \"name\": \"df\",\n  \"rows\": 53043,\n  \"fields\": [\n    {\n      \"column\": \"Unnamed: 0\",\n      \"properties\": {\n        \"dtype\": \"number\",\n        \"std\": 15312,\n        \"min\": 0,\n        \"max\": 53042,\n        \"num_unique_values\": 53043,\n        \"samples\": [\n          22261,\n          41400,\n          20065\n        ],\n        \"semantic_type\": \"\",\n        \"description\": \"\"\n      }\n    },\n    {\n      \"column\": \"statement\",\n      \"properties\": {\n        \"dtype\": \"string\",\n        \"num_unique_values\": 51073,\n        \"samples\": [\n          \"he's been a chain smoker for 30 years.\",\n          \"Dependence on therapist I attend IOP groups and individual therapy sessions at the same place, my therapist who I have worked with on and off for a year and a couple months just told me today that she is leaving soon and I am heartbroken. I love my therapist and I don't know how I am going to keep progressing without her. There will be a replacement for her but idk what to do, I don't want a different therapist. :(\",\n          \"These feelings constantly come back. Someone from my past that hurt me came back a month ago and once again disrespected me and i just feel like shit. Idk why these feelings keep resurfacing but it just hurts. I do not want to be over dramatic but Its hurts when you were nothing but loving/kind to someone and they disrespect you. I just hate feeling like this, feeling like i cannot trust anyone or that no one would ever truly love me unless i have something to offer. I am always worried about my looks and its just making me depressed. I really do not feel like i fit in with the world I am just here. Idk what my next step should be to get help but I am really going through it. (Yes I am in therapy) but how do i help myself ? I have been depressed/anxious for years and most day i do not even leave my house. But nobody around me seems to care and honestly I am tired of feeling this way. But at the same time i do not want to give up on myself bc i feel like I am here to be somebody great. I am just trying to find my way right now. It keeps coming back\"\n        ],\n        \"semantic_type\": \"\",\n        \"description\": \"\"\n      }\n    },\n    {\n      \"column\": \"status\",\n      \"properties\": {\n        \"dtype\": \"category\",\n        \"num_unique_values\": 7,\n        \"samples\": [\n          \"Anxiety\",\n          \"Normal\",\n          \"Bipolar\"\n        ],\n        \"semantic_type\": \"\",\n        \"description\": \"\"\n      }\n    }\n  ]\n}"
            }
          },
          "metadata": {},
          "execution_count": 4
        }
      ]
    },
    {
      "cell_type": "code",
      "source": [
        "# Melihat 5 baris dataset paling bawah\n",
        "df.tail()"
      ],
      "metadata": {
        "colab": {
          "base_uri": "https://localhost:8080/",
          "height": 206
        },
        "id": "c3qEo-oh6IlX",
        "outputId": "37fb2a07-082e-41b9-e166-555f1ff33884"
      },
      "execution_count": 5,
      "outputs": [
        {
          "output_type": "execute_result",
          "data": {
            "text/plain": [
              "       Unnamed: 0                                          statement   status\n",
              "53038       53038  Nobody takes me seriously I’ve (24M) dealt wit...  Anxiety\n",
              "53039       53039  selfishness  \"I don't feel very good, it's lik...  Anxiety\n",
              "53040       53040  Is there any way to sleep better? I can't slee...  Anxiety\n",
              "53041       53041  Public speaking tips? Hi, all. I have to give ...  Anxiety\n",
              "53042       53042  I have really bad door anxiety! It's not about...  Anxiety"
            ],
            "text/html": [
              "\n",
              "  <div id=\"df-8590b534-03dd-49da-9ea0-45004c41b014\" class=\"colab-df-container\">\n",
              "    <div>\n",
              "<style scoped>\n",
              "    .dataframe tbody tr th:only-of-type {\n",
              "        vertical-align: middle;\n",
              "    }\n",
              "\n",
              "    .dataframe tbody tr th {\n",
              "        vertical-align: top;\n",
              "    }\n",
              "\n",
              "    .dataframe thead th {\n",
              "        text-align: right;\n",
              "    }\n",
              "</style>\n",
              "<table border=\"1\" class=\"dataframe\">\n",
              "  <thead>\n",
              "    <tr style=\"text-align: right;\">\n",
              "      <th></th>\n",
              "      <th>Unnamed: 0</th>\n",
              "      <th>statement</th>\n",
              "      <th>status</th>\n",
              "    </tr>\n",
              "  </thead>\n",
              "  <tbody>\n",
              "    <tr>\n",
              "      <th>53038</th>\n",
              "      <td>53038</td>\n",
              "      <td>Nobody takes me seriously I’ve (24M) dealt wit...</td>\n",
              "      <td>Anxiety</td>\n",
              "    </tr>\n",
              "    <tr>\n",
              "      <th>53039</th>\n",
              "      <td>53039</td>\n",
              "      <td>selfishness  \"I don't feel very good, it's lik...</td>\n",
              "      <td>Anxiety</td>\n",
              "    </tr>\n",
              "    <tr>\n",
              "      <th>53040</th>\n",
              "      <td>53040</td>\n",
              "      <td>Is there any way to sleep better? I can't slee...</td>\n",
              "      <td>Anxiety</td>\n",
              "    </tr>\n",
              "    <tr>\n",
              "      <th>53041</th>\n",
              "      <td>53041</td>\n",
              "      <td>Public speaking tips? Hi, all. I have to give ...</td>\n",
              "      <td>Anxiety</td>\n",
              "    </tr>\n",
              "    <tr>\n",
              "      <th>53042</th>\n",
              "      <td>53042</td>\n",
              "      <td>I have really bad door anxiety! It's not about...</td>\n",
              "      <td>Anxiety</td>\n",
              "    </tr>\n",
              "  </tbody>\n",
              "</table>\n",
              "</div>\n",
              "    <div class=\"colab-df-buttons\">\n",
              "\n",
              "  <div class=\"colab-df-container\">\n",
              "    <button class=\"colab-df-convert\" onclick=\"convertToInteractive('df-8590b534-03dd-49da-9ea0-45004c41b014')\"\n",
              "            title=\"Convert this dataframe to an interactive table.\"\n",
              "            style=\"display:none;\">\n",
              "\n",
              "  <svg xmlns=\"http://www.w3.org/2000/svg\" height=\"24px\" viewBox=\"0 -960 960 960\">\n",
              "    <path d=\"M120-120v-720h720v720H120Zm60-500h600v-160H180v160Zm220 220h160v-160H400v160Zm0 220h160v-160H400v160ZM180-400h160v-160H180v160Zm440 0h160v-160H620v160ZM180-180h160v-160H180v160Zm440 0h160v-160H620v160Z\"/>\n",
              "  </svg>\n",
              "    </button>\n",
              "\n",
              "  <style>\n",
              "    .colab-df-container {\n",
              "      display:flex;\n",
              "      gap: 12px;\n",
              "    }\n",
              "\n",
              "    .colab-df-convert {\n",
              "      background-color: #E8F0FE;\n",
              "      border: none;\n",
              "      border-radius: 50%;\n",
              "      cursor: pointer;\n",
              "      display: none;\n",
              "      fill: #1967D2;\n",
              "      height: 32px;\n",
              "      padding: 0 0 0 0;\n",
              "      width: 32px;\n",
              "    }\n",
              "\n",
              "    .colab-df-convert:hover {\n",
              "      background-color: #E2EBFA;\n",
              "      box-shadow: 0px 1px 2px rgba(60, 64, 67, 0.3), 0px 1px 3px 1px rgba(60, 64, 67, 0.15);\n",
              "      fill: #174EA6;\n",
              "    }\n",
              "\n",
              "    .colab-df-buttons div {\n",
              "      margin-bottom: 4px;\n",
              "    }\n",
              "\n",
              "    [theme=dark] .colab-df-convert {\n",
              "      background-color: #3B4455;\n",
              "      fill: #D2E3FC;\n",
              "    }\n",
              "\n",
              "    [theme=dark] .colab-df-convert:hover {\n",
              "      background-color: #434B5C;\n",
              "      box-shadow: 0px 1px 3px 1px rgba(0, 0, 0, 0.15);\n",
              "      filter: drop-shadow(0px 1px 2px rgba(0, 0, 0, 0.3));\n",
              "      fill: #FFFFFF;\n",
              "    }\n",
              "  </style>\n",
              "\n",
              "    <script>\n",
              "      const buttonEl =\n",
              "        document.querySelector('#df-8590b534-03dd-49da-9ea0-45004c41b014 button.colab-df-convert');\n",
              "      buttonEl.style.display =\n",
              "        google.colab.kernel.accessAllowed ? 'block' : 'none';\n",
              "\n",
              "      async function convertToInteractive(key) {\n",
              "        const element = document.querySelector('#df-8590b534-03dd-49da-9ea0-45004c41b014');\n",
              "        const dataTable =\n",
              "          await google.colab.kernel.invokeFunction('convertToInteractive',\n",
              "                                                    [key], {});\n",
              "        if (!dataTable) return;\n",
              "\n",
              "        const docLinkHtml = 'Like what you see? Visit the ' +\n",
              "          '<a target=\"_blank\" href=https://colab.research.google.com/notebooks/data_table.ipynb>data table notebook</a>'\n",
              "          + ' to learn more about interactive tables.';\n",
              "        element.innerHTML = '';\n",
              "        dataTable['output_type'] = 'display_data';\n",
              "        await google.colab.output.renderOutput(dataTable, element);\n",
              "        const docLink = document.createElement('div');\n",
              "        docLink.innerHTML = docLinkHtml;\n",
              "        element.appendChild(docLink);\n",
              "      }\n",
              "    </script>\n",
              "  </div>\n",
              "\n",
              "\n",
              "    <div id=\"df-564c45cf-d64f-4b93-a53c-bd1850614685\">\n",
              "      <button class=\"colab-df-quickchart\" onclick=\"quickchart('df-564c45cf-d64f-4b93-a53c-bd1850614685')\"\n",
              "                title=\"Suggest charts\"\n",
              "                style=\"display:none;\">\n",
              "\n",
              "<svg xmlns=\"http://www.w3.org/2000/svg\" height=\"24px\"viewBox=\"0 0 24 24\"\n",
              "     width=\"24px\">\n",
              "    <g>\n",
              "        <path d=\"M19 3H5c-1.1 0-2 .9-2 2v14c0 1.1.9 2 2 2h14c1.1 0 2-.9 2-2V5c0-1.1-.9-2-2-2zM9 17H7v-7h2v7zm4 0h-2V7h2v10zm4 0h-2v-4h2v4z\"/>\n",
              "    </g>\n",
              "</svg>\n",
              "      </button>\n",
              "\n",
              "<style>\n",
              "  .colab-df-quickchart {\n",
              "      --bg-color: #E8F0FE;\n",
              "      --fill-color: #1967D2;\n",
              "      --hover-bg-color: #E2EBFA;\n",
              "      --hover-fill-color: #174EA6;\n",
              "      --disabled-fill-color: #AAA;\n",
              "      --disabled-bg-color: #DDD;\n",
              "  }\n",
              "\n",
              "  [theme=dark] .colab-df-quickchart {\n",
              "      --bg-color: #3B4455;\n",
              "      --fill-color: #D2E3FC;\n",
              "      --hover-bg-color: #434B5C;\n",
              "      --hover-fill-color: #FFFFFF;\n",
              "      --disabled-bg-color: #3B4455;\n",
              "      --disabled-fill-color: #666;\n",
              "  }\n",
              "\n",
              "  .colab-df-quickchart {\n",
              "    background-color: var(--bg-color);\n",
              "    border: none;\n",
              "    border-radius: 50%;\n",
              "    cursor: pointer;\n",
              "    display: none;\n",
              "    fill: var(--fill-color);\n",
              "    height: 32px;\n",
              "    padding: 0;\n",
              "    width: 32px;\n",
              "  }\n",
              "\n",
              "  .colab-df-quickchart:hover {\n",
              "    background-color: var(--hover-bg-color);\n",
              "    box-shadow: 0 1px 2px rgba(60, 64, 67, 0.3), 0 1px 3px 1px rgba(60, 64, 67, 0.15);\n",
              "    fill: var(--button-hover-fill-color);\n",
              "  }\n",
              "\n",
              "  .colab-df-quickchart-complete:disabled,\n",
              "  .colab-df-quickchart-complete:disabled:hover {\n",
              "    background-color: var(--disabled-bg-color);\n",
              "    fill: var(--disabled-fill-color);\n",
              "    box-shadow: none;\n",
              "  }\n",
              "\n",
              "  .colab-df-spinner {\n",
              "    border: 2px solid var(--fill-color);\n",
              "    border-color: transparent;\n",
              "    border-bottom-color: var(--fill-color);\n",
              "    animation:\n",
              "      spin 1s steps(1) infinite;\n",
              "  }\n",
              "\n",
              "  @keyframes spin {\n",
              "    0% {\n",
              "      border-color: transparent;\n",
              "      border-bottom-color: var(--fill-color);\n",
              "      border-left-color: var(--fill-color);\n",
              "    }\n",
              "    20% {\n",
              "      border-color: transparent;\n",
              "      border-left-color: var(--fill-color);\n",
              "      border-top-color: var(--fill-color);\n",
              "    }\n",
              "    30% {\n",
              "      border-color: transparent;\n",
              "      border-left-color: var(--fill-color);\n",
              "      border-top-color: var(--fill-color);\n",
              "      border-right-color: var(--fill-color);\n",
              "    }\n",
              "    40% {\n",
              "      border-color: transparent;\n",
              "      border-right-color: var(--fill-color);\n",
              "      border-top-color: var(--fill-color);\n",
              "    }\n",
              "    60% {\n",
              "      border-color: transparent;\n",
              "      border-right-color: var(--fill-color);\n",
              "    }\n",
              "    80% {\n",
              "      border-color: transparent;\n",
              "      border-right-color: var(--fill-color);\n",
              "      border-bottom-color: var(--fill-color);\n",
              "    }\n",
              "    90% {\n",
              "      border-color: transparent;\n",
              "      border-bottom-color: var(--fill-color);\n",
              "    }\n",
              "  }\n",
              "</style>\n",
              "\n",
              "      <script>\n",
              "        async function quickchart(key) {\n",
              "          const quickchartButtonEl =\n",
              "            document.querySelector('#' + key + ' button');\n",
              "          quickchartButtonEl.disabled = true;  // To prevent multiple clicks.\n",
              "          quickchartButtonEl.classList.add('colab-df-spinner');\n",
              "          try {\n",
              "            const charts = await google.colab.kernel.invokeFunction(\n",
              "                'suggestCharts', [key], {});\n",
              "          } catch (error) {\n",
              "            console.error('Error during call to suggestCharts:', error);\n",
              "          }\n",
              "          quickchartButtonEl.classList.remove('colab-df-spinner');\n",
              "          quickchartButtonEl.classList.add('colab-df-quickchart-complete');\n",
              "        }\n",
              "        (() => {\n",
              "          let quickchartButtonEl =\n",
              "            document.querySelector('#df-564c45cf-d64f-4b93-a53c-bd1850614685 button');\n",
              "          quickchartButtonEl.style.display =\n",
              "            google.colab.kernel.accessAllowed ? 'block' : 'none';\n",
              "        })();\n",
              "      </script>\n",
              "    </div>\n",
              "\n",
              "    </div>\n",
              "  </div>\n"
            ],
            "application/vnd.google.colaboratory.intrinsic+json": {
              "type": "dataframe",
              "summary": "{\n  \"name\": \"df\",\n  \"rows\": 5,\n  \"fields\": [\n    {\n      \"column\": \"Unnamed: 0\",\n      \"properties\": {\n        \"dtype\": \"number\",\n        \"std\": 1,\n        \"min\": 53038,\n        \"max\": 53042,\n        \"num_unique_values\": 5,\n        \"samples\": [\n          53039,\n          53042,\n          53040\n        ],\n        \"semantic_type\": \"\",\n        \"description\": \"\"\n      }\n    },\n    {\n      \"column\": \"statement\",\n      \"properties\": {\n        \"dtype\": \"string\",\n        \"num_unique_values\": 5,\n        \"samples\": [\n          \"selfishness  \\\"I don't feel very good, it's like I don't belong in this world (I don't think I ever did). My friends are happy, and I'm always the one who's not really funny and who ruins the mood. So now I try to say as little as possible, people always ask me if I'm okay, if I'm tired, or worse, they say I'm scary. I think I'm just a mistake. People must find me weird or creepy, it's ruining me. A few years ago, my brother committed suicide, I felt very close to him, I think about his death all the time, I wish I could start my life over again and make the right choices (for once). What affects me the most is girls, I think... It's ridiculous, but I would love to have a relationship with a (very) pretty girl. Sometimes I think I've suffered so much that I would at least deserve that. I saw the damage my brother's death caused in my family, now I think if I didn't have a family to make suffer =&gt; suicide. My message is so selfish, and I know it. Thank you for reading these few lines...\\\" \\n\\n\\\\-Lust\",\n          \"I have really bad door anxiety! It's not about being scared I didn't lock the door or something, I'm just really scared of opening doors the wrong way or turning a key the wrong way in front of people or pushing instead of pulling and viceversa, it's honestly debilitating because i feel like I'm gonna die everytime I have to open a door. I wondered if anyone else has the same problem and how to fix it if possible.\",\n          \"Is there any way to sleep better? I can't sleep most of the nights, meds didn't help.\"\n        ],\n        \"semantic_type\": \"\",\n        \"description\": \"\"\n      }\n    },\n    {\n      \"column\": \"status\",\n      \"properties\": {\n        \"dtype\": \"category\",\n        \"num_unique_values\": 1,\n        \"samples\": [\n          \"Anxiety\"\n        ],\n        \"semantic_type\": \"\",\n        \"description\": \"\"\n      }\n    }\n  ]\n}"
            }
          },
          "metadata": {},
          "execution_count": 5
        }
      ]
    },
    {
      "cell_type": "code",
      "source": [
        "# Melihat informasi dataset\n",
        "df.info()"
      ],
      "metadata": {
        "colab": {
          "base_uri": "https://localhost:8080/"
        },
        "id": "cbuJB_oc5vLc",
        "outputId": "59b930ae-ea2a-4e04-871a-38626b8161eb"
      },
      "execution_count": 6,
      "outputs": [
        {
          "output_type": "stream",
          "name": "stdout",
          "text": [
            "<class 'pandas.core.frame.DataFrame'>\n",
            "RangeIndex: 53043 entries, 0 to 53042\n",
            "Data columns (total 3 columns):\n",
            " #   Column      Non-Null Count  Dtype \n",
            "---  ------      --------------  ----- \n",
            " 0   Unnamed: 0  53043 non-null  int64 \n",
            " 1   statement   52681 non-null  object\n",
            " 2   status      53043 non-null  object\n",
            "dtypes: int64(1), object(2)\n",
            "memory usage: 1.2+ MB\n"
          ]
        }
      ]
    },
    {
      "cell_type": "code",
      "source": [
        "# Melihat nilai unik pada setiap kolom dataset\n",
        "df.nunique()"
      ],
      "metadata": {
        "colab": {
          "base_uri": "https://localhost:8080/",
          "height": 178
        },
        "id": "wiN4QBHfYLeK",
        "outputId": "54c71851-8771-4f3b-ad08-6f9f5fedcd0a"
      },
      "execution_count": 7,
      "outputs": [
        {
          "output_type": "execute_result",
          "data": {
            "text/plain": [
              "Unnamed: 0    53043\n",
              "statement     51073\n",
              "status            7\n",
              "dtype: int64"
            ],
            "text/html": [
              "<div>\n",
              "<style scoped>\n",
              "    .dataframe tbody tr th:only-of-type {\n",
              "        vertical-align: middle;\n",
              "    }\n",
              "\n",
              "    .dataframe tbody tr th {\n",
              "        vertical-align: top;\n",
              "    }\n",
              "\n",
              "    .dataframe thead th {\n",
              "        text-align: right;\n",
              "    }\n",
              "</style>\n",
              "<table border=\"1\" class=\"dataframe\">\n",
              "  <thead>\n",
              "    <tr style=\"text-align: right;\">\n",
              "      <th></th>\n",
              "      <th>0</th>\n",
              "    </tr>\n",
              "  </thead>\n",
              "  <tbody>\n",
              "    <tr>\n",
              "      <th>Unnamed: 0</th>\n",
              "      <td>53043</td>\n",
              "    </tr>\n",
              "    <tr>\n",
              "      <th>statement</th>\n",
              "      <td>51073</td>\n",
              "    </tr>\n",
              "    <tr>\n",
              "      <th>status</th>\n",
              "      <td>7</td>\n",
              "    </tr>\n",
              "  </tbody>\n",
              "</table>\n",
              "</div><br><label><b>dtype:</b> int64</label>"
            ]
          },
          "metadata": {},
          "execution_count": 7
        }
      ]
    },
    {
      "cell_type": "code",
      "source": [
        "# Mengecek apakah data nya ada missing values atau tidak\n",
        "df.isnull().sum()"
      ],
      "metadata": {
        "colab": {
          "base_uri": "https://localhost:8080/",
          "height": 178
        },
        "id": "df5bmEUb6dKZ",
        "outputId": "9cc50b84-3393-46e4-e1f4-605226f39abd"
      },
      "execution_count": 8,
      "outputs": [
        {
          "output_type": "execute_result",
          "data": {
            "text/plain": [
              "Unnamed: 0      0\n",
              "statement     362\n",
              "status          0\n",
              "dtype: int64"
            ],
            "text/html": [
              "<div>\n",
              "<style scoped>\n",
              "    .dataframe tbody tr th:only-of-type {\n",
              "        vertical-align: middle;\n",
              "    }\n",
              "\n",
              "    .dataframe tbody tr th {\n",
              "        vertical-align: top;\n",
              "    }\n",
              "\n",
              "    .dataframe thead th {\n",
              "        text-align: right;\n",
              "    }\n",
              "</style>\n",
              "<table border=\"1\" class=\"dataframe\">\n",
              "  <thead>\n",
              "    <tr style=\"text-align: right;\">\n",
              "      <th></th>\n",
              "      <th>0</th>\n",
              "    </tr>\n",
              "  </thead>\n",
              "  <tbody>\n",
              "    <tr>\n",
              "      <th>Unnamed: 0</th>\n",
              "      <td>0</td>\n",
              "    </tr>\n",
              "    <tr>\n",
              "      <th>statement</th>\n",
              "      <td>362</td>\n",
              "    </tr>\n",
              "    <tr>\n",
              "      <th>status</th>\n",
              "      <td>0</td>\n",
              "    </tr>\n",
              "  </tbody>\n",
              "</table>\n",
              "</div><br><label><b>dtype:</b> int64</label>"
            ]
          },
          "metadata": {},
          "execution_count": 8
        }
      ]
    },
    {
      "cell_type": "code",
      "source": [
        "# Menghitung frekuensi kemunculan tiap nilai unik di kolom status.\n",
        "df['status'].value_counts()"
      ],
      "metadata": {
        "colab": {
          "base_uri": "https://localhost:8080/",
          "height": 334
        },
        "id": "Tqdr_-yCDKKL",
        "outputId": "4443ddca-52b7-438f-bf65-20b023d1abae"
      },
      "execution_count": 9,
      "outputs": [
        {
          "output_type": "execute_result",
          "data": {
            "text/plain": [
              "status\n",
              "Normal                  16351\n",
              "Depression              15404\n",
              "Suicidal                10653\n",
              "Anxiety                  3888\n",
              "Bipolar                  2877\n",
              "Stress                   2669\n",
              "Personality disorder     1201\n",
              "Name: count, dtype: int64"
            ],
            "text/html": [
              "<div>\n",
              "<style scoped>\n",
              "    .dataframe tbody tr th:only-of-type {\n",
              "        vertical-align: middle;\n",
              "    }\n",
              "\n",
              "    .dataframe tbody tr th {\n",
              "        vertical-align: top;\n",
              "    }\n",
              "\n",
              "    .dataframe thead th {\n",
              "        text-align: right;\n",
              "    }\n",
              "</style>\n",
              "<table border=\"1\" class=\"dataframe\">\n",
              "  <thead>\n",
              "    <tr style=\"text-align: right;\">\n",
              "      <th></th>\n",
              "      <th>count</th>\n",
              "    </tr>\n",
              "    <tr>\n",
              "      <th>status</th>\n",
              "      <th></th>\n",
              "    </tr>\n",
              "  </thead>\n",
              "  <tbody>\n",
              "    <tr>\n",
              "      <th>Normal</th>\n",
              "      <td>16351</td>\n",
              "    </tr>\n",
              "    <tr>\n",
              "      <th>Depression</th>\n",
              "      <td>15404</td>\n",
              "    </tr>\n",
              "    <tr>\n",
              "      <th>Suicidal</th>\n",
              "      <td>10653</td>\n",
              "    </tr>\n",
              "    <tr>\n",
              "      <th>Anxiety</th>\n",
              "      <td>3888</td>\n",
              "    </tr>\n",
              "    <tr>\n",
              "      <th>Bipolar</th>\n",
              "      <td>2877</td>\n",
              "    </tr>\n",
              "    <tr>\n",
              "      <th>Stress</th>\n",
              "      <td>2669</td>\n",
              "    </tr>\n",
              "    <tr>\n",
              "      <th>Personality disorder</th>\n",
              "      <td>1201</td>\n",
              "    </tr>\n",
              "  </tbody>\n",
              "</table>\n",
              "</div><br><label><b>dtype:</b> int64</label>"
            ]
          },
          "metadata": {},
          "execution_count": 9
        }
      ]
    },
    {
      "cell_type": "code",
      "source": [
        "# Visualisasi distribusi jumlah data tiap kelas status (label)\n",
        "plt.figure(figsize=(8,5))\n",
        "sns.countplot(data=df, x='status', order=df['status'].value_counts().index)\n",
        "plt.title('Distribusi Kelas Status')\n",
        "plt.xticks(rotation=45)\n",
        "plt.show()"
      ],
      "metadata": {
        "colab": {
          "base_uri": "https://localhost:8080/",
          "height": 581
        },
        "id": "Bz_XMiNy6gSL",
        "outputId": "fcf3fbfd-da80-4f38-d60b-8060cc7f9db0"
      },
      "execution_count": 10,
      "outputs": [
        {
          "output_type": "display_data",
          "data": {
            "text/plain": [
              "<Figure size 800x500 with 1 Axes>"
            ],
            "image/png": "[encoded data removed]"
          },
          "metadata": {}
        }
      ]
    },
    {
      "cell_type": "code",
      "source": [
        "# Visualisasi distribusi panjang statement (fitur)\n",
        "plt.figure(figsize=(10, 5))\n",
        "sns.histplot(df['statement'].dropna().apply(len), bins=50, kde=True)\n",
        "plt.title('Distribusi Panjang Statement')\n",
        "plt.xlabel('Panjang Statement')\n",
        "plt.ylabel('Frekuensi')\n",
        "plt.show()"
      ],
      "metadata": {
        "colab": {
          "base_uri": "https://localhost:8080/",
          "height": 487
        },
        "id": "T3Wjlc9V-r3V",
        "outputId": "3b04afda-9f4d-4c07-aff0-8bc33c15debb"
      },
      "execution_count": 11,
      "outputs": [
        {
          "output_type": "display_data",
          "data": {
            "text/plain": [
              "<Figure size 1000x500 with 1 Axes>"
            ],
            "image/png": "[encoded data removed]"
          },
          "metadata": {}
        }
      ]
    },
    {
      "cell_type": "markdown",
      "source": [
        "## Langkah 3 : Preprocessing Data (Pembersihan & Persiapan untuk Evaluasi)"
      ],
      "metadata": {
        "id": "xAxkSS8CAEIw"
      }
    },
    {
      "cell_type": "code",
      "source": [
        "# Penanganan missing values\n",
        "initial_rows = len(df)\n",
        "df.dropna(subset=['statement', 'status'], inplace=True)\n",
        "df.reset_index(drop=True, inplace=True)\n",
        "rows_after_dropna = len(df)\n",
        "if initial_rows > rows_after_dropna:\n",
        "    print(f\"Ditemukan dan dihapus {initial_rows - rows_after_dropna} baris dengan missing values pada kolom krusial.\")\n",
        "else:\n",
        "    print(\"Tidak ditemukan missing values pada kolom 'Statement' atau 'Mental Health Status'.\")"
      ],
      "metadata": {
        "id": "KgyP9XXJaRAp",
        "colab": {
          "base_uri": "https://localhost:8080/"
        },
        "outputId": "193619c8-1050-4001-bc21-29b9aec26003"
      },
      "execution_count": 12,
      "outputs": [
        {
          "output_type": "stream",
          "name": "stdout",
          "text": [
            "Ditemukan dan dihapus 362 baris dengan missing values pada kolom krusial.\n"
          ]
        }
      ]
    },
    {
      "cell_type": "code",
      "source": [
        "# Pemetaan Label (untuk evaluasi)\n",
        "unique_labels = df['status'].unique().tolist()\n",
        "unique_labels.sort()\n",
        "label_to_id = {label: i for i, label in enumerate(unique_labels)}\n",
        "id_to_label = {i: label for i, label in enumerate(unique_labels)}\n",
        "print(f\"\\n--- Pemetaan Label ---\")\n",
        "print(f\"Label ke ID: {label_to_id}\")"
      ],
      "metadata": {
        "colab": {
          "base_uri": "https://localhost:8080/"
        },
        "id": "ohtcpG8sZwoo",
        "outputId": "7ea1da83-8918-4d15-e422-914204b42235"
      },
      "execution_count": 13,
      "outputs": [
        {
          "output_type": "stream",
          "name": "stdout",
          "text": [
            "\n",
            "--- Pemetaan Label ---\n",
            "Label ke ID: {'Anxiety': 0, 'Bipolar': 1, 'Depression': 2, 'Normal': 3, 'Personality disorder': 4, 'Stress': 5, 'Suicidal': 6}\n"
          ]
        }
      ]
    },
    {
      "cell_type": "code",
      "source": [
        "# Split Dataset 80 untuk Training dan 20 Testing Set\n",
        "X = df['statement']\n",
        "y = df['status']\n",
        "X_train, X_test, y_train, y_test = train_test_split(X, y, test_size=0.2, random_state=42, stratify=y)"
      ],
      "metadata": {
        "id": "rLYbjshtdMWj"
      },
      "execution_count": 14,
      "outputs": []
    },
    {
      "cell_type": "code",
      "source": [
        "print(f\"\\nUkuran Training Set: {len(X_train)}\")\n",
        "print(f\"Ukuran Testing Set: {len(X_test)}\")\n",
        "print(\"\\nPreprocessing data selesai. Dataset siap untuk prompting.\")"
      ],
      "metadata": {
        "colab": {
          "base_uri": "https://localhost:8080/"
        },
        "id": "-IQICGKrdX3o",
        "outputId": "406997ad-b756-4e54-d7d1-2d0b84e8d682"
      },
      "execution_count": 15,
      "outputs": [
        {
          "output_type": "stream",
          "name": "stdout",
          "text": [
            "\n",
            "Ukuran Training Set: 42144\n",
            "Ukuran Testing Set: 10537\n",
            "\n",
            "Preprocessing data selesai. Dataset siap untuk prompting.\n"
          ]
        }
      ]
    },
    {
      "cell_type": "markdown",
      "source": [
        "## Langkah 4 : Persiapan Replicate API Token & Inisialisasi Model IBM Granite"
      ],
      "metadata": {
        "id": "EHvpctqqetAb"
      }
    },
    {
      "cell_type": "code",
      "source": [
        "# Ambil API Token dari Colab\n",
        "try:\n",
        "    replicate_api_token = userdata.get('api_token')\n",
        "    os.environ[\"REPLICATE_API_TOKEN\"] = replicate_api_token\n",
        "    print(\"REPLICATE_API_TOKEN berhasil dimuat dari Colab Secrets.\")\n",
        "except Exception as e:\n",
        "    print(f\"[ERROR]: Gagal memuat REPLICATE_API_TOKEN dari Colab Secrets: {e}\")\n",
        "    raise Exception(\"REPLICATE_API_TOKEN tidak ditemukan atau tidak valid.\")"
      ],
      "metadata": {
        "colab": {
          "base_uri": "https://localhost:8080/"
        },
        "id": "5v68dOBRekq2",
        "outputId": "29080740-c896-4ce4-9ee9-e39ddaf44c69"
      },
      "execution_count": 16,
      "outputs": [
        {
          "output_type": "stream",
          "name": "stdout",
          "text": [
            "REPLICATE_API_TOKEN berhasil dimuat dari Colab Secrets.\n"
          ]
        }
      ]
    },
    {
      "cell_type": "code",
      "source": [
        "ibm_granite_model_id = \"ibm-granite/granite-3.3-8b-instruct\"\n",
        "\n",
        "try:\n",
        "    granite_llm = Replicate(\n",
        "        model=ibm_granite_model_id,\n",
        "        replicate_api_token=replicate_api_token,\n",
        "        model_kwargs={\n",
        "            \"temperature\": 0.1,  # Suhu rendah untuk klasifikasi agar deterministik.\n",
        "            \"max_new_tokens\": 50, # Cukup untuk nama kategori.\n",
        "        }\n",
        "    )\n",
        "    print(f\"\\nModel IBM Granite '{ibm_granite_model_id}' berhasil diinisialisasi via Replicate.\")\n",
        "\n",
        "except Exception as e:\n",
        "    print(f\"[ERROR]: Gagal menginisialisasi model Replicate. Pesan error: {e}\")\n",
        "    print(\"Penyebab umum: API Token salah, ID model tidak valid (perlu versi hash), atau masalah koneksi.\")\n",
        "    raise Exception(\"Model Replicate tidak dapat diinisialisasi.\")"
      ],
      "metadata": {
        "colab": {
          "base_uri": "https://localhost:8080/"
        },
        "id": "iOxtAmsHjrj2",
        "outputId": "491670a1-9804-4d87-eb31-fdc08057a84e"
      },
      "execution_count": 17,
      "outputs": [
        {
          "output_type": "stream",
          "name": "stdout",
          "text": [
            "\n",
            "Model IBM Granite 'ibm-granite/granite-3.3-8b-instruct' berhasil diinisialisasi via Replicate.\n"
          ]
        }
      ]
    },
    {
      "cell_type": "markdown",
      "source": [
        "## Langkah 5 : Melakukan Prompting untuk Klasifikasi\n"
      ],
      "metadata": {
        "id": "Jy80KYjBfwaR"
      }
    },
    {
      "cell_type": "code",
      "source": [
        "# --- Strategi Eksperimen ---\n",
        "# Untuk menemukan prompt terbaik, Anda bisa mencoba beberapa variasi prompt dan Few-Shot Examples.\n",
        "# Jalankan cell ini berulang kali dengan modifikasi pada 'current_few_shot_examples' atau 'current_prompt_instructions'.\n",
        "# Setelah setiap eksperimen, jalankan Cell 6 untuk melihat hasilnya.\n",
        "\n",
        "# Batasi jumlah sampel yang akan diproses untuk demo/eksperimen agar tidak terlalu lama/boros kredit.\n",
        "num_samples_to_process = min(300, len(X_test)) # Contoh: Proses 300 sampel dari testing set\n",
        "print(f\"\\nMemproses {num_samples_to_process} sampel dari testing set untuk klasifikasi.\")\n",
        "\n",
        "predicted_labels = []\n",
        "\n",
        "# --- Definisikan 20 Contoh untuk Few-Shot Learning (BERBAHASA INGGRIS) ---\n",
        "# Ini adalah inti dari strategi penanganan imbalance data Anda dalam konteks prompting.\n",
        "# Contoh-contoh ini dipilih untuk mencakup semua kategori, dengan penekanan pada kelas minoritas\n",
        "# dan menampilkan variasi ekspresi.\n",
        "# PASTIKAN DATA 'Statement' di X_test Anda juga dalam bahasa INGGRIS agar ini efektif.\n",
        "few_shot_examples = \"\"\"\n",
        "Statement: \"I feel incredibly tired and have no will to live, everything feels empty and pointless.\"\n",
        "Category: Depression\n",
        "\n",
        "Statement: \"It's so hard to concentrate, work keeps piling up, and I feel completely overwhelmed by all these demands. I'm burnt out.\"\n",
        "Category: Stress\n",
        "\n",
        "Statement: \"My heart races, my palms sweat, and I can't stop worrying about every little thing that might go wrong tomorrow. It's constant dread.\"\n",
        "Category: Anxiety\n",
        "\n",
        "Statement: \"One day I'm on top of the world, full of energy and grand ideas, barely sleeping, then suddenly I crash into a deep, dark despair, unable to even leave my bed.\"\n",
        "Category: Bipolar\n",
        "\n",
        "Statement: \"I see no reason to continue existing. The darkness consumes me, and all I want is for this pain to end forever, by any means necessary.\"\n",
        "Category: Suicidal\n",
        "\n",
        "Statement: \"I frequently experience intense anger outbursts and struggle immensely to control my emotions when interacting with others, which frequently damages my relationships.\"\n",
        "Category: Personality Disorder\n",
        "\n",
        "Statement: \"I feel good and live my daily life normally, without any significant issues or persistent worries bothering my mind.\"\n",
        "Category: Normal\n",
        "\n",
        "Statement: \"I've been fighting for so long, but it feels utterly hopeless now. I just want to give up on everything.\"\n",
        "Category: Depression\n",
        "\n",
        "Statement: \"The pressure from my studies and family expectations is crushing me, I feel constantly under duress and can't relax.\"\n",
        "Category: Stress\n",
        "\n",
        "Statement: \"I get extremely nervous and panic in social situations, struggling to breathe.\"\n",
        "Category: Anxiety\n",
        "\n",
        "Statement: \"My moods swing wildly and unpredictably; one hour I'm extremely cheerful, the next I'm in tears for no apparent reason.\"\n",
        "Category: Bipolar\n",
        "\n",
        "Statement: \"The thoughts of harming myself are becoming overwhelming, and I'm struggling to resist them. I just want this pain to stop.\"\n",
        "Category: Suicidal\n",
        "\n",
        "Statement: \"I find it incredibly difficult to trust people, always feeling like they'll betray me, which makes it hard to form genuine connections.\"\n",
        "Category: Personality Disorder\n",
        "\n",
        "Statement: \"Today I feel genuinely happy, calm, and incredibly grateful for everything in my life.\"\n",
        "Category: Normal\n",
        "\n",
        "Statement: \"I'm experiencing a profound sadness that just won't lift, nothing seems to bring me joy anymore.\"\n",
        "Category: Depression\n",
        "\n",
        "Statement: \"I am completely overwhelmed by my responsibilities and feel paralyzed, unable to get anything done.\"\n",
        "Category: Stress\n",
        "\n",
        "Statement: \"A persistent sense of unease follows me everywhere, making me anxious about even simple daily tasks.\"\n",
        "Category: Anxiety\n",
        "\n",
        "Statement: \"My energy levels are erratic, some days I'm unstoppable, others I can barely move due to extreme low mood.\"\n",
        "Category: Bipolar\n",
        "\n",
        "Statement: \"The constant thoughts of ending it all are becoming unbearable, I feel trapped and exhausted.\"\n",
        "Category: Suicidal\n",
        "\n",
        "Statement: \"I often find myself acting impulsively without thinking of the consequences, which leads to a lot of problems in my life.\"\n",
        "Category: Personality Disorder\n",
        "\"\"\"\n",
        "\n",
        "# --- Definisikan Instruksi Prompt ---\n",
        "# Anda bisa mencoba memvariasikan instruksi ini dalam eksperimen.\n",
        "# Current / Optimal Instruction set:\n",
        "current_prompt_instructions = f\"\"\"You are an expert in mental health analysis. Your task is to classify the provided **English** statement into **exactly one** of the following specific mental health categories.\n",
        "**YOUR RESPONSE MUST BE ONLY THE CATEGORY NAME AND ABSOLUTELY NOTHING ELSE. DO NOT INCLUDE ANY PUNCTUATION, EXPLANATIONS, OR ADDITIONAL WORDS. STRICTLY ADHERE TO THE PROVIDED CATEGORY LIST.**\n",
        "\n",
        "Categories and their concise definitions:\n",
        "- Normal: Indicates a healthy state, absence of significant distress.\n",
        "- Depression: Persistent sadness, loss of interest, fatigue, feelings of worthlessness.\n",
        "- Suicidal: Direct or indirect expressions of suicidal ideation or intent, desire to end life.\n",
        "- Anxiety: Excessive worry, nervousness, panic, physical symptoms like racing heart, shortness of breath.\n",
        "- Stress: Feeling overwhelmed, pressured by external demands, burnout, inability to cope with daily pressures.\n",
        "- Bipolar: Extreme mood swings between episodes of euphoria/mania and deep depression.\n",
        "- Personality Disorder: Unhealthy and inflexible patterns of thinking, feeling, and behaving that cause long-term problems in relationships and functioning.\n",
        "\n",
        "Here are carefully selected examples to guide your classification. Follow their format precisely:\n",
        "---\n",
        "{few_shot_examples}\n",
        "---\n",
        "\n",
        "Now, classify the following statement:\n",
        "Statement: \"\"\" # Perhatikan ini diakhiri \"Statement: \" bukan \"{statement}\"\n",
        "\n",
        "for i in range(num_samples_to_process):\n",
        "    statement = X_test.iloc[i]\n",
        "\n",
        "    prompt = f\"{current_prompt_instructions}\\\"{statement}\\\"\\nCategory:\"\n",
        "\n",
        "    try:\n",
        "        response = granite_llm.invoke(prompt)\n",
        "\n",
        "        predicted_category = \"Unknown/Invalid Output\"\n",
        "        cleaned_response = response.strip().lower().replace('.', '').replace('\"', '').replace(\"'\", \"\").replace(\"category: \", \"\").replace(\"the category is \", \"\").replace(\"this statement falls under \", \"\").replace(\"is \", \"\")\n",
        "\n",
        "        # Logika Parsing yang Lebih Robust (tetap sama)\n",
        "        for label in unique_labels:\n",
        "            if label.lower() == cleaned_response:\n",
        "                predicted_category = label\n",
        "                break\n",
        "\n",
        "        if predicted_category == \"Unknown/Invalid Output\" and ',' in cleaned_response:\n",
        "            parts = [p.strip().lower() for p in cleaned_response.split(',')]\n",
        "            for part in parts:\n",
        "                for label in unique_labels:\n",
        "                    if label.lower() == part:\n",
        "                        predicted_category = label\n",
        "                        break\n",
        "                if predicted_category != \"Unknown/Invalid Output\":\n",
        "                    break\n",
        "\n",
        "        if predicted_category == \"Unknown/Invalid Output\":\n",
        "            sorted_unique_labels = sorted(unique_labels, key=len, reverse=True)\n",
        "            for label in sorted_unique_labels:\n",
        "                if label.lower() in cleaned_response:\n",
        "                    predicted_category = label\n",
        "                    break\n",
        "\n",
        "        predicted_labels.append(predicted_category)\n",
        "\n",
        "        if predicted_category == \"Unknown/Invalid Output\":\n",
        "            print(f\"Peringatan: Output tidak terduga untuk statement '{statement[:50]}...': '{response}'. Ditandai sebagai 'Unknown/Invalid Output'.\")\n",
        "\n",
        "        time.sleep(0.5)\n",
        "\n",
        "    except Exception as e:\n",
        "        print(f\"[ERROR] Saat memproses statement '{statement[:50]}...': {e}\")\n",
        "        predicted_labels.append(\"Error/API Failure\")\n",
        "        time.sleep(1)\n",
        "\n",
        "print(f\"\\nSelesai klasifikasi {num_samples_to_process} pernyataan.\")"
      ],
      "metadata": {
        "id": "vGvW50JifrnU",
        "colab": {
          "base_uri": "https://localhost:8080/"
        },
        "outputId": "90a0b2d8-7962-4455-ac9e-e2d46c398223"
      },
      "execution_count": 18,
      "outputs": [
        {
          "output_type": "stream",
          "name": "stdout",
          "text": [
            "\n",
            "Memproses 300 sampel dari testing set untuk klasifikasi.\n",
            "\n",
            "Selesai klasifikasi 300 pernyataan.\n"
          ]
        }
      ]
    },
    {
      "cell_type": "markdown",
      "source": [
        "## Langkah 6 : Evaluasi Performa Klasifikasi\n"
      ],
      "metadata": {
        "id": "0lAnqTX4kKvc"
      }
    },
    {
      "cell_type": "code",
      "source": [
        "# Ambil true_labels yang sesuai dengan sampel yang diproses\n",
        "true_labels_for_eval = y_test.iloc[:num_samples_to_process].tolist()\n",
        "\n",
        "# Filter prediksi yang valid untuk evaluasi metrik\n",
        "valid_true_labels = []\n",
        "valid_predicted_labels = []\n",
        "\n",
        "for tl, pl in zip(true_labels_for_eval, predicted_labels):\n",
        "    if pl in unique_labels:\n",
        "        valid_true_labels.append(tl)\n",
        "        valid_predicted_labels.append(pl)\n",
        "\n",
        "print(f\"\\nJumlah prediksi valid untuk evaluasi: {len(valid_predicted_labels)} dari {num_samples_to_process}.\")\n",
        "\n",
        "if len(valid_true_labels) > 0:\n",
        "    print(\"\\n--- Laporan Klasifikasi pada Sampel Testing Set ---\")\n",
        "    print(classification_report(valid_true_labels, valid_predicted_labels,\n",
        "                                target_names=unique_labels, zero_division=0))\n",
        "\n",
        "    print(\"\\n--- Visualisasi Confusion Matrix ---\")\n",
        "    cm = confusion_matrix(valid_true_labels, valid_predicted_labels, labels=unique_labels)\n",
        "\n",
        "    plt.figure(figsize=(12, 10))\n",
        "    sns.heatmap(cm, annot=True, fmt='d', cmap='Blues',\n",
        "                xticklabels=unique_labels, yticklabels=unique_labels,\n",
        "                annot_kws={\"size\": 12})\n",
        "    plt.title('Confusion Matrix: Prediksi vs. Aktual (IBM Granite Model)', fontsize=16)\n",
        "    plt.xlabel('Label Prediksi', fontsize=14)\n",
        "    plt.ylabel('Label Sebenarnya', fontsize=14)\n",
        "    plt.xticks(rotation=45, ha='right')\n",
        "    plt.yticks(rotation=0)\n",
        "    plt.tight_layout()\n",
        "    plt.show()\n",
        "\n",
        "    print(\"\\n--- Insight Awal dari Confusion Matrix ---\")\n",
        "    print(\"Matrix menunjukkan jumlah prediksi benar (diagonal) dan salah (off-diagonal).\")\n",
        "    print(\"Perhatikan kelas-kelas yang sering tertukar, ini menunjukkan area tantangan model.\")\n",
        "else:\n",
        "    print(\"\\nTidak ada prediksi valid yang cukup untuk menghasilkan laporan klasifikasi dan confusion matrix.\")"
      ],
      "metadata": {
        "colab": {
          "base_uri": "https://localhost:8080/",
          "height": 1000
        },
        "id": "2rmOdS5_kGhP",
        "outputId": "6d930af0-6de6-4e42-e3e3-2eb324cfd568"
      },
      "execution_count": 19,
      "outputs": [
        {
          "output_type": "stream",
          "name": "stdout",
          "text": [
            "\n",
            "Jumlah prediksi valid untuk evaluasi: 300 dari 300.\n",
            "\n",
            "--- Laporan Klasifikasi pada Sampel Testing Set ---\n",
            "                      precision    recall  f1-score   support\n",
            "\n",
            "             Anxiety       0.44      0.75      0.56        16\n",
            "             Bipolar       0.83      0.62      0.71        16\n",
            "          Depression       0.79      0.44      0.56        94\n",
            "              Normal       0.82      0.89      0.85       100\n",
            "Personality disorder       0.13      0.67      0.22         6\n",
            "              Stress       0.22      0.27      0.24        15\n",
            "            Suicidal       0.65      0.64      0.65        53\n",
            "\n",
            "            accuracy                           0.65       300\n",
            "           macro avg       0.56      0.61      0.54       300\n",
            "        weighted avg       0.72      0.65      0.66       300\n",
            "\n",
            "\n",
            "--- Visualisasi Confusion Matrix ---\n"
          ]
        },
        {
          "output_type": "display_data",
          "data": {
            "text/plain": [
              "<Figure size 1200x1000 with 2 Axes>"
            ],
            "image/png": "[encoded data removed]"
          },
          "metadata": {}
        },
        {
          "output_type": "stream",
          "name": "stdout",
          "text": [
            "\n",
            "--- Insight Awal dari Confusion Matrix ---\n",
            "Matrix menunjukkan jumlah prediksi benar (diagonal) dan salah (off-diagonal).\n",
            "Perhatikan kelas-kelas yang sering tertukar, ini menunjukkan area tantangan model.\n"
          ]
        }
      ]
    },
    {
      "cell_type": "markdown",
      "source": [
        "## Langkah 7 : Ekstraksi Insight, Kesimpulan, dan Rekomendasi"
      ],
      "metadata": {
        "id": "VXKmJ95BKd52"
      }
    },
    {
      "cell_type": "markdown",
      "source": [
        "Bagian ini menyajikan temuan kunci dan rekomendasi berdasarkan analisis data dan performa model.\n",
        "\n",
        "7.1 Insight & Findings\n",
        "\n",
        "\n",
        "---\n",
        "\n",
        "\n",
        "\n",
        " 1. Data & Bahasa : Dataset terdiri dari 53,043 pernyataan berbahasa Inggris. Ditemukan 362 nilai hilang pada kolom 'statement' yang telah ditangani\n",
        " 2. Imbalance Kelas : Terdapat ketidakseimbangan kelas yang signifikan. 'Normal' (16,351) dan 'Depression' (15,404) adalah mayoritas. Kelas minoritas meliputi 'Suicidal' (10,653), 'Anxiety' (3,888), 'Bipolar' (2,877), 'Stress' (2,669), dan 'Personality Disorder' (1,201). Imbalance ini menjadi tantangan utama bagi model.\n",
        " 3. Performa Keseluruhan : Dengan Prompt Engineering (20 contoh Few-Shot berbahasa Inggris dan instruksi tegas), model IBM Granite mencapai akurasi 65% dan F1-score weighted 0.66 pada 300 sampel testing.\n",
        " 4. Kinerja Per Kelas :\n",
        "    * Baik: 'Normal' (F1: 0.85), 'Bipolar' (F1: 0.69), dan 'Suicidal' (F1: 0.66) menunjukkan kinerja yang cukup baik.\n",
        "    * Cukup Baik (Recall Lebih Tinggi dari Precision): 'Anxiety' (F1: 0.57, Recall: 0.75) menunjukkan kemampuan deteksi yang baik, namun presisi rendah (0.46).\n",
        "    * Sulit Dideteksi: 'Depression' (F1: 0.55, Recall: 0.43) masih sering terlewat. 'Stress' (F1: 0.29) dan 'Personality Disorder' (F1: 0.22) adalah kelas yang paling sulit diklasifikasikan.\n",
        " 5. Pola Kesalahan (dari Confusion Matrix): Model sering kebingungan antara kategori yang memiliki ekspresi semantik serupa (misalnya, Anxiety vs Stress atau Depression). Kelas minoritas seperti Personality Disorder cenderung tersebar dan sering salah diprediksi sebagai kelas mayoritas.\n",
        " 6. Efektivitas Prompt Engineering : Penerapan 20 contoh Few-Shot berbahasa Inggris dan instruksi prompt yang terdefinisi dengan baik terbukti krusial dalam membimbing model LLM, memungkinkan pemrosesan 300 sampel dengan output valid dan meningkatkan deteksi pada beberapa kategori minoritas.\n",
        " 7. Batasan Pendekatan : Akurasi 65% mencerminkan batasan metode prompting LLM untuk domain yang kompleks dan data yang sangat tidak seimbang tanpa fine-tuning model yang mendalam.\n",
        "\n",
        "\\\n",
        "7.2 Conclusion & Recommendations\n",
        "\n",
        "\n",
        "---\n",
        "\n",
        "\n",
        " 1. Kesimpulan :\n",
        "    \n",
        "    * Proyek ini berhasil membangun sistem klasifikasi status kesehatan mental menggunakan IBM Granite Model via Prompt Engineering.\n",
        "    * Model menunjukkan kemampuan deteksi yang memadai pada kategori mayoritas ('Normal', 'Depression') dan beberapa kategori minoritas penting ('Suicidal', 'Bipolar'), namun masih menghadapi tantangan pada kelas yang sangat minoritas ('Personality Disorder', 'Stress', 'Anxiety') karena imbalance data.\n",
        "    * Penggunaan AI (IBM Granite Model) melalui Prompt Engineering telah mendemonstrasikan potensi untuk analisis klasifikasi teks skala besar.\n",
        "  \n",
        " 2. Rekomendasi (Konkret, Actionable, Berdampak Nyata)\n",
        "\n",
        "    * Untuk Pihak Terkait (Pemerintah/Organisasi Kesehatan Mental):\n",
        "      * Model ini dapat berfungsi sebagai alat skrining awal di platform media sosial untuk mengidentifikasi individu yang berpotensi membutuhkan dukungan, terutama untuk 'Depression', 'Suicidal', dan 'Bipolar'.\n",
        "      * Intervensi manusia tetap esensial untuk validasi dan penanganan kasus-kasus sensitif dan minoritas yang sulit dideteksi AI.\n",
        "    * Untuk Peningkatan Model di Masa Depan (Rekomendasi Teknis):\n",
        "      * Fine-tuning LLM: Untuk akurasi di atas 80-90%, diperlukan fine-tuning model LLM (misalnya, BERT-based) secara langsung pada dataset kesehatan mental ini.\n",
        "      * Kualitas & Kuantitas Data: Mengumpulkan lebih banyak data berlabel yang jelas dan seimbang untuk kategori minoritas akan sangat meningkatkan kinerja model.\n",
        "      * Model Spesifik Domain: Eksplorasi LLM yang sudah di-fine-tune sebelumnya pada domain klinis/kesehatan mental.\n",
        "      * Teknik Ensemble: Menggabungkan beberapa model atau teknik klasifikasi untuk hasil yang lebih andal.\n",
        "    * Dampak Potensial: Sistem deteksi berbasis AI memiliki potensi untuk mempercepat identifikasi individu berisiko dan mengalokasikan sumber daya dukungan kesehatan mental secara lebih efisien."
      ],
      "metadata": {
        "id": "wM9fiLU79eSS"
      }
    }
  ]
}